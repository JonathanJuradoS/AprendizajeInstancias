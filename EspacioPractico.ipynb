{
  "nbformat": 4,
  "nbformat_minor": 0,
  "metadata": {
    "colab": {
      "provenance": [],
      "authorship_tag": "ABX9TyPgC1KWCh5O9ZvowASH0PYu",
      "include_colab_link": true
    },
    "kernelspec": {
      "name": "python3",
      "display_name": "Python 3"
    },
    "language_info": {
      "name": "python"
    }
  },
  "cells": [
    {
      "cell_type": "markdown",
      "metadata": {
        "id": "view-in-github",
        "colab_type": "text"
      },
      "source": [
        "<a href=\"https://colab.research.google.com/github/JonathanJuradoS/AprendizajeInstancias/blob/main/EspacioPractico.ipynb\" target=\"_parent\"><img src=\"https://colab.research.google.com/assets/colab-badge.svg\" alt=\"Open In Colab\"/></a>"
      ]
    },
    {
      "cell_type": "code",
      "execution_count": null,
      "metadata": {
        "id": "MDzbLPR_-2jW"
      },
      "outputs": [],
      "source": [
        "# 1. Importar las librerías necesarias\n",
        "import pandas as pd\n",
        "from sklearn.model_selection import train_test_split\n",
        "from sklearn.neighbors import KNeighborsClassifier\n",
        "from sklearn.metrics import classification_report, confusion_matrix\n",
        "\n",
        "# 2. Cargar el dataset\n",
        "# Ruta del archivo CSV\n",
        "ruta = \"Espacio_Practico_knn.csv\"\n",
        "df = pd.read_csv(ruta)\n",
        "\n",
        "# 3. Explorar los primeros registros\n",
        "print(df.head())\n",
        "\n",
        "# 4. Definir variables predictoras (Edad, Frecuencia_Compras, Monto_Promedio, Tiempo_Cliente) y etiqueta (Satisfaccion)\n",
        "X = df[[\"Edad\", \"Frecuencia_Compras\", \"Monto_Promedio\", \"Tiempo_Cliente\"]]\n",
        "y = df[\"Satisfaccion\"]\n",
        "\n",
        "# 5. Dividir el dataset en conjunto de entrenamiento y prueba\n",
        "\n",
        "\n",
        "# 6. Crear el modelo KNN (Probar diferentes valores de k)\n",
        "\n",
        "\n",
        "# 7. Entrenar el modelo\n",
        "\n",
        "\n",
        "# 8. Realizar predicciones\n",
        "\n",
        "\n",
        "# 9. Evaluar el modelo (matriz de confusión y reporte de clasificación)\n",
        "print(confusion_matrix(y_test, y_pred))\n",
        "print(classification_report(y_test, y_pred))\n",
        "\n",
        "# 10. Reflexionar sobre los resultados\n",
        "# ¿Cuál clase fue mejor clasificada?\n",
        "# ¿Hubo confusión entre algunas clases?\n",
        "# ¿Qué sucedió si cambias el valor de k?"
      ]
    }
  ]
}