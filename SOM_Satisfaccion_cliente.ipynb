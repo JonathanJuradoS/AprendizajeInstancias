{
  "cells": [
    {
      "cell_type": "markdown",
      "metadata": {
        "id": "view-in-github",
        "colab_type": "text"
      },
      "source": [
        "<a href=\"https://colab.research.google.com/github/JonathanJuradoS/AprendizajeInstancias/blob/main/SOM_Satisfaccion_cliente.ipynb\" target=\"_parent\"><img src=\"https://colab.research.google.com/assets/colab-badge.svg\" alt=\"Open In Colab\"/></a>"
      ]
    },
    {
      "cell_type": "code",
      "execution_count": 1,
      "id": "c6df6211",
      "metadata": {
        "colab": {
          "base_uri": "https://localhost:8080/"
        },
        "id": "c6df6211",
        "outputId": "df3c5b25-16d7-4837-ad50-b3c952b0ab07"
      },
      "outputs": [
        {
          "output_type": "stream",
          "name": "stdout",
          "text": [
            "Collecting minisom\n",
            "  Downloading minisom-2.3.5.tar.gz (12 kB)\n",
            "  Preparing metadata (setup.py) ... \u001b[?25l\u001b[?25hdone\n",
            "Building wheels for collected packages: minisom\n",
            "  Building wheel for minisom (setup.py) ... \u001b[?25l\u001b[?25hdone\n",
            "  Created wheel for minisom: filename=MiniSom-2.3.5-py3-none-any.whl size=12031 sha256=6e58019ebc1ba0d692e4578d37f577b16697012d4e37a59ae5eda05a93370c8b\n",
            "  Stored in directory: /root/.cache/pip/wheels/19/db/95/5e53bc2b88a328217fdf9f2886cafbe86b0df274f4b601f572\n",
            "Successfully built minisom\n",
            "Installing collected packages: minisom\n",
            "Successfully installed minisom-2.3.5\n"
          ]
        }
      ],
      "source": [
        "\n",
        "# Instalar MiniSom\n",
        "!pip install minisom\n"
      ]
    },
    {
      "cell_type": "code",
      "execution_count": 2,
      "id": "b1897f3d",
      "metadata": {
        "id": "b1897f3d"
      },
      "outputs": [],
      "source": [
        "\n",
        "import pandas as pd\n",
        "import numpy as np\n",
        "from minisom import MiniSom\n",
        "from sklearn.preprocessing import MinMaxScaler\n",
        "from sklearn.metrics import classification_report, confusion_matrix\n",
        "import matplotlib.pyplot as plt\n",
        "import seaborn as sns\n"
      ]
    },
    {
      "cell_type": "code",
      "execution_count": 3,
      "id": "75caf03c",
      "metadata": {
        "id": "75caf03c"
      },
      "outputs": [],
      "source": [
        "\n",
        "# Cargar dataset\n",
        "df = pd.read_csv(\"Espacio_Practico_knn.csv\")\n",
        "X = df[[\"Edad\", \"Frecuencia_Compras\", \"Monto_Promedio\", \"Tiempo_Cliente\"]]\n",
        "y = df[\"Satisfaccion\"]\n"
      ]
    },
    {
      "cell_type": "code",
      "execution_count": 4,
      "id": "78f70c73",
      "metadata": {
        "id": "78f70c73"
      },
      "outputs": [],
      "source": [
        "\n",
        "# Normalizar los datos\n",
        "scaler = MinMaxScaler()\n",
        "X_scaled = scaler.fit_transform(X)\n"
      ]
    },
    {
      "cell_type": "code",
      "execution_count": 5,
      "id": "b153df1e",
      "metadata": {
        "colab": {
          "base_uri": "https://localhost:8080/"
        },
        "id": "b153df1e",
        "outputId": "f2493930-55e5-4f14-a707-f32755c2b697"
      },
      "outputs": [
        {
          "output_type": "stream",
          "name": "stdout",
          "text": [
            "Mejores parámetros encontrados: {'x': 12, 'y': 12, 'sigma': 0.5}\n"
          ]
        }
      ],
      "source": [
        "\n",
        "# Búsqueda de mejores parámetros\n",
        "best_som = None\n",
        "best_qe = float('inf')\n",
        "best_params = {}\n",
        "\n",
        "for x in [8, 10, 12]:\n",
        "    for ymap in [8, 10, 12]:\n",
        "        for sigma in [0.5, 1.0, 1.5]:\n",
        "            som = MiniSom(x=x, y=ymap, input_len=X.shape[1], sigma=sigma, learning_rate=0.5)\n",
        "            som.random_weights_init(X_scaled)\n",
        "            som.train_random(X_scaled, 500)\n",
        "            qe = som.quantization_error(X_scaled)\n",
        "            if qe < best_qe:\n",
        "                best_qe = qe\n",
        "                best_som = som\n",
        "                best_params = {'x': x, 'y': ymap, 'sigma': sigma}\n",
        "\n",
        "print(\"Mejores parámetros encontrados:\", best_params)\n"
      ]
    },
    {
      "cell_type": "code",
      "execution_count": 6,
      "id": "74e332b6",
      "metadata": {
        "id": "74e332b6"
      },
      "outputs": [],
      "source": [
        "\n",
        "# Asegurar que y es una Series válida\n",
        "y = df[\"Satisfaccion\"]\n",
        "\n",
        "# Etiquetado por BMU\n",
        "bmu_labels = {}\n",
        "for i, x in enumerate(X_scaled):\n",
        "    bmu = best_som.winner(x)\n",
        "    if bmu not in bmu_labels:\n",
        "        bmu_labels[bmu] = []\n",
        "    bmu_labels[bmu].append(y.iloc[i])\n",
        "\n",
        "# Determinar clase dominante por nodo\n",
        "bmu_class = {bmu: max(set(labels), key=labels.count) for bmu, labels in bmu_labels.items()}\n",
        "\n",
        "# Clasificación final\n",
        "y_pred = []\n",
        "for x in X_scaled:\n",
        "    bmu = best_som.winner(x)\n",
        "    y_pred.append(bmu_class.get(bmu, \"Desconocido\"))\n"
      ]
    },
    {
      "cell_type": "code",
      "execution_count": 7,
      "id": "3f09725e",
      "metadata": {
        "colab": {
          "base_uri": "https://localhost:8080/",
          "height": 584
        },
        "id": "3f09725e",
        "outputId": "66d1934a-441f-4f57-f4b8-af03a34013e8"
      },
      "outputs": [
        {
          "output_type": "stream",
          "name": "stdout",
          "text": [
            "              precision    recall  f1-score   support\n",
            "\n",
            "        Alto       0.93      0.74      0.82      1074\n",
            "        Bajo       0.85      0.90      0.87      1911\n",
            "       Medio       0.78      0.82      0.80      2015\n",
            "\n",
            "    accuracy                           0.83      5000\n",
            "   macro avg       0.85      0.82      0.83      5000\n",
            "weighted avg       0.84      0.83      0.83      5000\n",
            "\n"
          ]
        },
        {
          "output_type": "display_data",
          "data": {
            "text/plain": [
              "<Figure size 600x400 with 2 Axes>"
            ],
            "image/png": "[encoded data removed]"
          },
          "metadata": {}
        }
      ],
      "source": [
        "\n",
        "# Reporte de clasificación\n",
        "print(classification_report(y, y_pred))\n",
        "\n",
        "# Matriz de confusión\n",
        "cm = confusion_matrix(y, y_pred, labels=[\"Alto\", \"Medio\", \"Bajo\"])\n",
        "plt.figure(figsize=(6,4))\n",
        "sns.heatmap(cm, annot=True, fmt=\"d\", cmap=\"Blues\",\n",
        "            xticklabels=[\"Alto\", \"Medio\", \"Bajo\"],\n",
        "            yticklabels=[\"Alto\", \"Medio\", \"Bajo\"])\n",
        "plt.xlabel(\"Predicho\")\n",
        "plt.ylabel(\"Verdadero\")\n",
        "plt.title(\"Matriz de Confusión - SOM\")\n",
        "plt.show()\n"
      ]
    }
  ],
  "metadata": {
    "kernelspec": {
      "display_name": "Python 3",
      "language": "python",
      "name": "python3"
    },
    "colab": {
      "provenance": [],
      "include_colab_link": true
    }
  },
  "nbformat": 4,
  "nbformat_minor": 5
}